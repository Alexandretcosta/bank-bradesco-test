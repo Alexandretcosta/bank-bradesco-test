{
 "cells": [
  {
   "cell_type": "markdown",
   "metadata": {
    "id": "kAQVmHJByubK"
   },
   "source": [
    "Comandos do PDF"
   ]
  },
  {
   "cell_type": "code",
   "execution_count": null,
   "metadata": {
    "colab": {
     "base_uri": "https://localhost:8080/"
    },
    "id": "8tc451hfyXii",
    "outputId": "fb85f4cd-3755-4461-9756-09a7bf2b7cfa"
   },
   "outputs": [
    {
     "name": "stdout",
     "output_type": "stream",
     "text": [
      "Looking in indexes: https://pypi.org/simple, https://us-python.pkg.dev/colab-wheels/public/simple/\n",
      "Collecting pyspark\n",
      "  Downloading pyspark-3.3.0.tar.gz (281.3 MB)\n",
      "\u001b[K     |████████████████████████████████| 281.3 MB 50 kB/s \n",
      "\u001b[?25hCollecting py4j==0.10.9.5\n",
      "  Downloading py4j-0.10.9.5-py2.py3-none-any.whl (199 kB)\n",
      "\u001b[K     |████████████████████████████████| 199 kB 56.6 MB/s \n",
      "\u001b[?25hBuilding wheels for collected packages: pyspark\n",
      "  Building wheel for pyspark (setup.py) ... \u001b[?25l\u001b[?25hdone\n",
      "  Created wheel for pyspark: filename=pyspark-3.3.0-py2.py3-none-any.whl size=281764026 sha256=252f98fcbf93a1dc952b9750955b6a9cdde90c1d571124afcfc10455a96226eb\n",
      "  Stored in directory: /root/.cache/pip/wheels/7a/8e/1b/f73a52650d2e5f337708d9f6a1750d451a7349a867f928b885\n",
      "Successfully built pyspark\n",
      "Installing collected packages: py4j, pyspark\n",
      "Successfully installed py4j-0.10.9.5 pyspark-3.3.0\n"
     ]
    }
   ],
   "source": [
    "!pip install pyspark"
   ]
  },
  {
   "cell_type": "code",
   "execution_count": null,
   "metadata": {
    "id": "owGeL97ByfTf"
   },
   "outputs": [],
   "source": [
    "from pyspark.sql import SparkSession\n",
    "spark = SparkSession.builder.appName('seuapp').getOrCreate()"
   ]
  },
  {
   "cell_type": "code",
   "execution_count": null,
   "metadata": {
    "colab": {
     "base_uri": "https://localhost:8080/"
    },
    "id": "k5UNIgPnyidO",
    "outputId": "359ab35e-a366-42ee-ac18-8d478857f56c"
   },
   "outputs": [
    {
     "name": "stdout",
     "output_type": "stream",
     "text": [
      "--2022-08-05 03:31:21--  https://archive.ics.uci.edu/ml/machine-learning-databases/00344/Activity%20recognition%20exp.zip\n",
      "Resolving archive.ics.uci.edu (archive.ics.uci.edu)... 128.195.10.252\n",
      "Connecting to archive.ics.uci.edu (archive.ics.uci.edu)|128.195.10.252|:443... connected.\n",
      "HTTP request sent, awaiting response... 200 OK\n",
      "Length: 777127275 (741M) [application/x-httpd-php]\n",
      "Saving to: ‘Activity recognition exp.zip’\n",
      "\n",
      "Activity recognitio 100%[===================>] 741.13M  37.5MB/s    in 21s     \n",
      "\n",
      "2022-08-05 03:31:42 (36.1 MB/s) - ‘Activity recognition exp.zip’ saved [777127275/777127275]\n",
      "\n"
     ]
    }
   ],
   "source": [
    "!wget https://archive.ics.uci.edu/ml/machine-learning-databases/00344/Activity%20recognition%20exp.zip"
   ]
  },
  {
   "cell_type": "code",
   "execution_count": null,
   "metadata": {
    "colab": {
     "base_uri": "https://localhost:8080/"
    },
    "id": "1RtOaaLSz-ON",
    "outputId": "2ab646e3-f110-4e95-d715-324082a59db3"
   },
   "outputs": [
    {
     "name": "stdout",
     "output_type": "stream",
     "text": [
      "Archive:  /content/Activity recognition exp.zip\n",
      "   creating: Activity recognition exp/\n",
      "  inflating: Activity recognition exp/.DS_Store  \n",
      "   creating: __MACOSX/\n",
      "   creating: __MACOSX/Activity recognition exp/\n",
      "  inflating: __MACOSX/Activity recognition exp/._.DS_Store  \n",
      "  inflating: Activity recognition exp/Phones_accelerometer.csv  \n",
      "  inflating: Activity recognition exp/Phones_gyroscope.csv  \n",
      "  inflating: Activity recognition exp/readme.txt  \n",
      "  inflating: __MACOSX/Activity recognition exp/._readme.txt  \n",
      "  inflating: Activity recognition exp/Watch_accelerometer.csv  \n",
      "  inflating: Activity recognition exp/Watch_gyroscope.csv  \n"
     ]
    }
   ],
   "source": [
    "!unzip /content/Activity\\ recognition\\ exp.zip "
   ]
  },
  {
   "cell_type": "code",
   "execution_count": 89,
   "metadata": {
    "id": "MJtOGkfDz8Qi"
   },
   "outputs": [],
   "source": [
    "phone_acc = spark.read.csv('Activity recognition exp/Phones_accelerometer.csv' ,header = True, inferSchema = False)\n",
    "phone_gyr = spark.read.csv('Activity recognition exp/Phones_gyroscope.csv' ,header = True, inferSchema = False)\n",
    "watch_acc = spark.read.csv('Activity recognition exp/Watch_accelerometer.csv' ,header = True, inferSchema = False)\n",
    "watch_gyr = spark.read.csv('Activity recognition exp/Watch_gyroscope.csv' ,header = True, inferSchema = False)"
   ]
  },
  {
   "cell_type": "markdown",
   "metadata": {
    "id": "Qc0jlsxa4j03"
   },
   "source": [
    "Volumentria Dos Dados"
   ]
  },
  {
   "cell_type": "code",
   "execution_count": 90,
   "metadata": {
    "colab": {
     "base_uri": "https://localhost:8080/"
    },
    "id": "qId-L3_j4crP",
    "outputId": "689d524e-c199-4cf0-dc15-f2af3d4ef752"
   },
   "outputs": [
    {
     "name": "stdout",
     "output_type": "stream",
     "text": [
      "Phones_accelerometer:  13062475\n",
      "Phones_gyroscope:  13932632\n",
      "Watch_accelerometer:  3540962\n",
      "Watch_gyroscope:  3205431\n"
     ]
    }
   ],
   "source": [
    "print('Phones_accelerometer: ',phone_acc.count())\n",
    "print('Phones_gyroscope: ',phone_gyr.count())\n",
    "print('Watch_accelerometer: ',watch_acc.count())\n",
    "print('Watch_gyroscope: ',watch_gyr.count())"
   ]
  },
  {
   "cell_type": "markdown",
   "metadata": {
    "id": "GK0LlM8r46lo"
   },
   "source": [
    "Ajustar os Formatos dos Dados"
   ]
  },
  {
   "cell_type": "code",
   "execution_count": 91,
   "metadata": {
    "id": "ArsNMA5N492a"
   },
   "outputs": [],
   "source": [
    "from pyspark.sql.functions import *\n",
    "from pyspark.sql.types import IntegerType, DateType, TimestampType, DoubleType, FloatType, LongType\n",
    "phone_acc = phone_acc.withColumn('Index',phone_acc.Index.cast(IntegerType()))\n",
    "phone_acc = phone_acc.withColumn('x',phone_acc.x.cast(FloatType()))\n",
    "phone_acc = phone_acc.withColumn('y',phone_acc.y.cast(FloatType()))\n",
    "phone_acc = phone_acc.withColumn('z',phone_acc.z.cast(FloatType()))\n",
    "phone_acc = phone_acc.withColumn('Arrival_Time',phone_acc.Arrival_Time.cast(LongType()))\n",
    "phone_acc = phone_acc.withColumn('Creation_Time',phone_acc.Arrival_Time.cast(LongType()))\n",
    "\n",
    "phone_gyr = phone_gyr.withColumn('Index',phone_gyr.Index.cast(IntegerType()))\n",
    "phone_gyr = phone_gyr.withColumn('x',phone_gyr.x.cast(FloatType()))\n",
    "phone_gyr = phone_gyr.withColumn('y',phone_gyr.y.cast(FloatType()))\n",
    "phone_gyr = phone_gyr.withColumn('z',phone_gyr.z.cast(FloatType()))\n",
    "phone_gyr = phone_gyr.withColumn('Arrival_Time',phone_gyr.Arrival_Time.cast(LongType()))\n",
    "phone_gyr = phone_gyr.withColumn('Creation_Time',phone_gyr.Arrival_Time.cast(LongType()))\n",
    "\n",
    "watch_acc = watch_acc.withColumn('Index',watch_acc.Index.cast(IntegerType()))\n",
    "watch_acc = watch_acc.withColumn('x',watch_acc.x.cast(FloatType()))\n",
    "watch_acc = watch_acc.withColumn('y',watch_acc.y.cast(FloatType()))\n",
    "watch_acc = watch_acc.withColumn('z',watch_acc.z.cast(FloatType()))\n",
    "watch_acc = watch_acc.withColumn('Arrival_Time',watch_acc.Arrival_Time.cast(LongType()))\n",
    "watch_acc = watch_acc.withColumn('Creation_Time',watch_acc.Arrival_Time.cast(LongType()))\n",
    "\n",
    "watch_gyr = watch_gyr.withColumn('Index',watch_gyr.Index.cast(IntegerType()))\n",
    "watch_gyr = watch_gyr.withColumn('x',watch_gyr.x.cast(FloatType()))\n",
    "watch_gyr = watch_gyr.withColumn('y',watch_gyr.y.cast(FloatType()))\n",
    "watch_gyr = watch_gyr.withColumn('z',watch_gyr.z.cast(FloatType()))\n",
    "watch_gyr = watch_gyr.withColumn('Arrival_Time',watch_gyr.Arrival_Time.cast(LongType()))\n",
    "watch_gyr = watch_gyr.withColumn('Creation_Time',watch_gyr.Arrival_Time.cast(LongType()))"
   ]
  },
  {
   "cell_type": "markdown",
   "metadata": {
    "id": "RFFIf0WuEO9h"
   },
   "source": [
    "Analise Inicial\n",
    "- Preenchimento das Variaveis;\n",
    "- Duplicidade dos Dados;\n",
    "- Formato dos Dados;\n",
    "- Identificação."
   ]
  },
  {
   "cell_type": "markdown",
   "metadata": {
    "id": "gL4OaIvGcECX"
   },
   "source": [
    "1. Preenchimento das Variaveis por Tabela"
   ]
  },
  {
   "cell_type": "code",
   "execution_count": 92,
   "metadata": {
    "colab": {
     "base_uri": "https://localhost:8080/"
    },
    "id": "GlPJeRHebexy",
    "outputId": "6ad4f630-90f5-4a17-eb00-60f332f077b0"
   },
   "outputs": [
    {
     "name": "stdout",
     "output_type": "stream",
     "text": [
      "Table: Phones_accelerometer - Preenchimento\n",
      "+-----+------------+-------------+---+---+---+----+-----+------+---+\n",
      "|Index|Arrival_Time|Creation_Time|  x|  y|  z|User|Model|Device| gt|\n",
      "+-----+------------+-------------+---+---+---+----+-----+------+---+\n",
      "|  0.0|         0.0|          0.0|0.0|0.0|0.0| 0.0|  0.0|   0.0|0.0|\n",
      "+-----+------------+-------------+---+---+---+----+-----+------+---+\n",
      "\n"
     ]
    }
   ],
   "source": [
    "print(\"Table: Phones_accelerometer - Preenchimento\")\n",
    "phone_acc_na = phone_acc.select([(count(when(isnan(c) | col(c).isNull(), c))/count(lit(1))).alias(c) for c in phone_acc.columns])\n",
    "phone_acc_na.show()"
   ]
  },
  {
   "cell_type": "code",
   "execution_count": 93,
   "metadata": {
    "colab": {
     "base_uri": "https://localhost:8080/"
    },
    "id": "fANsBJiubmT8",
    "outputId": "6e389a00-b8d8-4edf-8527-b3cb4503aa51"
   },
   "outputs": [
    {
     "name": "stdout",
     "output_type": "stream",
     "text": [
      "Table: Phones_gyroscope - Preenchimento\n",
      "+-----+------------+-------------+---+---+---+----+-----+------+---+\n",
      "|Index|Arrival_Time|Creation_Time|  x|  y|  z|User|Model|Device| gt|\n",
      "+-----+------------+-------------+---+---+---+----+-----+------+---+\n",
      "|  0.0|         0.0|          0.0|0.0|0.0|0.0| 0.0|  0.0|   0.0|0.0|\n",
      "+-----+------------+-------------+---+---+---+----+-----+------+---+\n",
      "\n"
     ]
    }
   ],
   "source": [
    "print(\"Table: Phones_gyroscope - Preenchimento\")\n",
    "phone_gyr_na = phone_gyr.select([(count(when(isnan(c) | col(c).isNull(), c))/count(lit(1))).alias(c) for c in phone_gyr.columns])\n",
    "phone_gyr_na.show()"
   ]
  },
  {
   "cell_type": "code",
   "execution_count": 94,
   "metadata": {
    "colab": {
     "base_uri": "https://localhost:8080/"
    },
    "id": "vkDFBs4OEMN-",
    "outputId": "eb5a4914-56bb-46e1-b83c-2af376db026d"
   },
   "outputs": [
    {
     "name": "stdout",
     "output_type": "stream",
     "text": [
      "Table: Watch_accelerometer - Preenchimento\n",
      "+-----+------------+-------------+---+---+---+----+-----+------+---+\n",
      "|Index|Arrival_Time|Creation_Time|  x|  y|  z|User|Model|Device| gt|\n",
      "+-----+------------+-------------+---+---+---+----+-----+------+---+\n",
      "|  0.0|         0.0|          0.0|0.0|0.0|0.0| 0.0|  0.0|   0.0|0.0|\n",
      "+-----+------------+-------------+---+---+---+----+-----+------+---+\n",
      "\n"
     ]
    }
   ],
   "source": [
    "print(\"Table: Watch_accelerometer - Preenchimento\")\n",
    "watch_acc_na = watch_acc.select([(count(when(isnan(c) | col(c).isNull(), c))/count(lit(1))).alias(c) for c in watch_acc.columns])\n",
    "watch_acc_na.show()"
   ]
  },
  {
   "cell_type": "code",
   "execution_count": 95,
   "metadata": {
    "colab": {
     "base_uri": "https://localhost:8080/"
    },
    "id": "FA3BTUD0bv6f",
    "outputId": "5f627ead-e17c-4e6e-c897-96de04e1dc8b"
   },
   "outputs": [
    {
     "name": "stdout",
     "output_type": "stream",
     "text": [
      "Table: Watch_gyroscope - Preenchimento\n",
      "+-----+------------+-------------+---+---+---+----+-----+------+---+\n",
      "|Index|Arrival_Time|Creation_Time|  x|  y|  z|User|Model|Device| gt|\n",
      "+-----+------------+-------------+---+---+---+----+-----+------+---+\n",
      "|  0.0|         0.0|          0.0|0.0|0.0|0.0| 0.0|  0.0|   0.0|0.0|\n",
      "+-----+------------+-------------+---+---+---+----+-----+------+---+\n",
      "\n"
     ]
    }
   ],
   "source": [
    "print(\"Table: Watch_gyroscope - Preenchimento\")\n",
    "watch_gyr_na = watch_gyr.select([(count(when(isnan(c) | col(c).isNull(), c))/count(lit(1))).alias(c) for c in watch_gyr.columns])\n",
    "watch_gyr_na.show()"
   ]
  },
  {
   "cell_type": "markdown",
   "metadata": {
    "id": "RzTDIjZfcL3K"
   },
   "source": [
    "2. Duplicidade dos Dados"
   ]
  },
  {
   "cell_type": "code",
   "execution_count": 96,
   "metadata": {
    "colab": {
     "base_uri": "https://localhost:8080/"
    },
    "id": "NjsupjgJcPeK",
    "outputId": "2e288569-9d06-4899-8d15-31a6454f3f8a"
   },
   "outputs": [
    {
     "name": "stdout",
     "output_type": "stream",
     "text": [
      "Table: Phones_accelerometer - Duplicity\n",
      "Data has duplicates:  Arrival_Time\n",
      "Data has duplicates:  Creation_Time\n"
     ]
    }
   ],
   "source": [
    "print(\"Table: Phones_accelerometer - Duplicity\")\n",
    "if phone_acc.count() > phone_acc.dropDuplicates().count():\n",
    "    print('Data has duplicates')\n",
    "  \n",
    "for cols in ['Index','Arrival_Time','Creation_Time']:\n",
    "  if phone_acc.count() > phone_acc.dropDuplicates([cols,'User','Model','Device']).count():\n",
    "      print('Data has duplicates: ', cols)\n",
    "      #raise ValueError('Data has duplicates')"
   ]
  },
  {
   "cell_type": "code",
   "execution_count": 97,
   "metadata": {
    "colab": {
     "base_uri": "https://localhost:8080/"
    },
    "id": "oUc9GKWZcgSe",
    "outputId": "80d98401-bc20-4e1d-97ad-f9c4d4dc7aa3"
   },
   "outputs": [
    {
     "name": "stdout",
     "output_type": "stream",
     "text": [
      "Table: Phones_gyroscope - Duplicity\n",
      "Data has duplicates:  Arrival_Time\n",
      "Data has duplicates:  Creation_Time\n"
     ]
    }
   ],
   "source": [
    "print(\"Table: Phones_gyroscope - Duplicity\")\n",
    "if phone_gyr.count() > phone_gyr.dropDuplicates().count():\n",
    "    print('Data has duplicates')\n",
    "  \n",
    "for cols in ['Index','Arrival_Time','Creation_Time']:\n",
    "  if phone_gyr.count() > phone_gyr.dropDuplicates([cols,'User','Model','Device']).count():\n",
    "      print('Data has duplicates: ', cols)\n",
    "      #raise ValueError('Data has duplicates')"
   ]
  },
  {
   "cell_type": "code",
   "execution_count": 98,
   "metadata": {
    "colab": {
     "base_uri": "https://localhost:8080/"
    },
    "id": "UgPHhioMFVVu",
    "outputId": "47769fb1-ec1e-4137-e893-6c833eeeaf12"
   },
   "outputs": [
    {
     "name": "stdout",
     "output_type": "stream",
     "text": [
      "Table: Watch_accelerometer - Duplicity\n",
      "Data has duplicates:  Arrival_Time\n",
      "Data has duplicates:  Creation_Time\n"
     ]
    }
   ],
   "source": [
    "print(\"Table: Watch_accelerometer - Duplicity\")\n",
    "if watch_acc.count() > watch_acc.dropDuplicates().count():\n",
    "    print('Data has duplicates')\n",
    "  \n",
    "for cols in ['Index','Arrival_Time','Creation_Time']:\n",
    "  if watch_acc.count() > watch_acc.dropDuplicates([cols,'User','Model','Device']).count():\n",
    "      print('Data has duplicates: ', cols)\n",
    "      #raise ValueError('Data has duplicates')"
   ]
  },
  {
   "cell_type": "code",
   "execution_count": 99,
   "metadata": {
    "colab": {
     "base_uri": "https://localhost:8080/"
    },
    "id": "dnYXaWaKcn3Y",
    "outputId": "bd5d124f-85b3-4f6d-9d39-8c765e29e71a"
   },
   "outputs": [
    {
     "name": "stdout",
     "output_type": "stream",
     "text": [
      "Table: Watch_gyroscope - Duplicity\n",
      "Data has duplicates:  Arrival_Time\n",
      "Data has duplicates:  Creation_Time\n"
     ]
    }
   ],
   "source": [
    "print(\"Table: Watch_gyroscope - Duplicity\")\n",
    "if watch_gyr.count() > watch_gyr.dropDuplicates().count():\n",
    "    print('Data has duplicates')\n",
    "  \n",
    "for cols in ['Index','Arrival_Time','Creation_Time']:\n",
    "  if watch_gyr.count() > watch_gyr.dropDuplicates([cols,'User','Model','Device']).count():\n",
    "      print('Data has duplicates: ', cols)\n",
    "      #raise ValueError('Data has duplicates')"
   ]
  },
  {
   "cell_type": "markdown",
   "metadata": {
    "id": "LlGKbSyQc6qC"
   },
   "source": [
    "3. Formato dos Dados"
   ]
  },
  {
   "cell_type": "code",
   "execution_count": 100,
   "metadata": {
    "colab": {
     "base_uri": "https://localhost:8080/"
    },
    "id": "aRH93AeRdFCr",
    "outputId": "fc3abd94-1837-4305-d08f-e66d9ddc5dc7"
   },
   "outputs": [
    {
     "name": "stdout",
     "output_type": "stream",
     "text": [
      "Table: Phones_accelerometer - Format\n",
      "root\n",
      " |-- Index: integer (nullable = true)\n",
      " |-- Arrival_Time: long (nullable = true)\n",
      " |-- Creation_Time: long (nullable = true)\n",
      " |-- x: float (nullable = true)\n",
      " |-- y: float (nullable = true)\n",
      " |-- z: float (nullable = true)\n",
      " |-- User: string (nullable = true)\n",
      " |-- Model: string (nullable = true)\n",
      " |-- Device: string (nullable = true)\n",
      " |-- gt: string (nullable = true)\n",
      "\n"
     ]
    }
   ],
   "source": [
    "print(\"Table: Phones_accelerometer - Format\")\n",
    "phone_acc.printSchema()"
   ]
  },
  {
   "cell_type": "code",
   "execution_count": 101,
   "metadata": {
    "colab": {
     "base_uri": "https://localhost:8080/"
    },
    "id": "maGinA4SdDsa",
    "outputId": "d68348c5-288e-4017-853c-ac4f51a5ef42"
   },
   "outputs": [
    {
     "name": "stdout",
     "output_type": "stream",
     "text": [
      "Table: Phones_gyroscope - Format\n",
      "root\n",
      " |-- Index: integer (nullable = true)\n",
      " |-- Arrival_Time: long (nullable = true)\n",
      " |-- Creation_Time: long (nullable = true)\n",
      " |-- x: float (nullable = true)\n",
      " |-- y: float (nullable = true)\n",
      " |-- z: float (nullable = true)\n",
      " |-- User: string (nullable = true)\n",
      " |-- Model: string (nullable = true)\n",
      " |-- Device: string (nullable = true)\n",
      " |-- gt: string (nullable = true)\n",
      "\n"
     ]
    }
   ],
   "source": [
    "print(\"Table: Phones_gyroscope - Format\")\n",
    "phone_gyr.printSchema()"
   ]
  },
  {
   "cell_type": "code",
   "execution_count": 102,
   "metadata": {
    "colab": {
     "base_uri": "https://localhost:8080/"
    },
    "id": "5m95fDi1dCgu",
    "outputId": "43c214cf-b10f-4453-a1e5-37435d63e562"
   },
   "outputs": [
    {
     "name": "stdout",
     "output_type": "stream",
     "text": [
      "Table: Watch_accelerometer - Format\n",
      "root\n",
      " |-- Index: integer (nullable = true)\n",
      " |-- Arrival_Time: long (nullable = true)\n",
      " |-- Creation_Time: long (nullable = true)\n",
      " |-- x: float (nullable = true)\n",
      " |-- y: float (nullable = true)\n",
      " |-- z: float (nullable = true)\n",
      " |-- User: string (nullable = true)\n",
      " |-- Model: string (nullable = true)\n",
      " |-- Device: string (nullable = true)\n",
      " |-- gt: string (nullable = true)\n",
      "\n"
     ]
    }
   ],
   "source": [
    "print(\"Table: Watch_accelerometer - Format\")\n",
    "watch_acc.printSchema()"
   ]
  },
  {
   "cell_type": "code",
   "execution_count": 103,
   "metadata": {
    "colab": {
     "base_uri": "https://localhost:8080/"
    },
    "id": "-q35lzVhIwUt",
    "outputId": "254833df-093a-4411-f111-7b3a890c3565"
   },
   "outputs": [
    {
     "name": "stdout",
     "output_type": "stream",
     "text": [
      "Table: Watch_gyroscope - Format\n",
      "root\n",
      " |-- Index: integer (nullable = true)\n",
      " |-- Arrival_Time: long (nullable = true)\n",
      " |-- Creation_Time: long (nullable = true)\n",
      " |-- x: float (nullable = true)\n",
      " |-- y: float (nullable = true)\n",
      " |-- z: float (nullable = true)\n",
      " |-- User: string (nullable = true)\n",
      " |-- Model: string (nullable = true)\n",
      " |-- Device: string (nullable = true)\n",
      " |-- gt: string (nullable = true)\n",
      "\n"
     ]
    }
   ],
   "source": [
    "print(\"Table: Watch_gyroscope - Format\")\n",
    "watch_gyr.printSchema()"
   ]
  },
  {
   "cell_type": "markdown",
   "metadata": {
    "id": "Mr2aWhXNdfvX"
   },
   "source": [
    "4. Identificação"
   ]
  },
  {
   "cell_type": "code",
   "execution_count": 104,
   "metadata": {
    "colab": {
     "base_uri": "https://localhost:8080/"
    },
    "id": "qbC7wTXMdolg",
    "outputId": "7acb2e00-d90b-4a0b-c924-b36aec0f2cb6"
   },
   "outputs": [
    {
     "name": "stdout",
     "output_type": "stream",
     "text": [
      "Table: Phones_accelerometer - ID\n",
      "+-----+-------------+-------------+----------+----------+--------+----+------+--------+-----+\n",
      "|Index| Arrival_Time|Creation_Time|         x|         y|       z|User| Model|  Device|   gt|\n",
      "+-----+-------------+-------------+----------+----------+--------+----+------+--------+-----+\n",
      "|    0|1424696633908|1424696633908| -5.958191| 0.6880646|8.135345|   a|nexus4|nexus4_1|stand|\n",
      "|    1|1424696633909|1424696633909|  -5.95224| 0.6702118|8.136536|   a|nexus4|nexus4_1|stand|\n",
      "|    2|1424696633918|1424696633918|-5.9950867| 0.6535492|8.204376|   a|nexus4|nexus4_1|stand|\n",
      "|    3|1424696633919|1424696633919|-5.9427185| 0.6761627|8.128204|   a|nexus4|nexus4_1|stand|\n",
      "|    4|1424696633929|1424696633929| -5.991516|0.64164734|8.135345|   a|nexus4|nexus4_1|stand|\n",
      "+-----+-------------+-------------+----------+----------+--------+----+------+--------+-----+\n",
      "only showing top 5 rows\n",
      "\n"
     ]
    }
   ],
   "source": [
    "print(\"Table: Phones_accelerometer - ID\")\n",
    "phone_acc.show(5)"
   ]
  },
  {
   "cell_type": "code",
   "execution_count": 105,
   "metadata": {
    "colab": {
     "base_uri": "https://localhost:8080/"
    },
    "id": "cDLP5czSdnvJ",
    "outputId": "f6afaf38-87de-4daa-e339-9edeb89a5bbb"
   },
   "outputs": [
    {
     "name": "stdout",
     "output_type": "stream",
     "text": [
      "Table: Phones_gyroscope - ID\n",
      "+-----+-------------+-------------+-----------+-------------+------------+----+------+--------+-----+\n",
      "|Index| Arrival_Time|Creation_Time|          x|            y|           z|User| Model|  Device|   gt|\n",
      "+-----+-------------+-------------+-----------+-------------+------------+----+------+--------+-----+\n",
      "|    0|1424696633909|1424696633909|0.013748169|-6.2561035E-4|-0.023376465|   a|nexus4|nexus4_1|stand|\n",
      "|    1|1424696633909|1424696633909|0.014816284|-0.0016937256| -0.02230835|   a|nexus4|nexus4_1|stand|\n",
      "|    2|1424696633918|1424696633918|  0.0158844|-0.0016937256|-0.021240234|   a|nexus4|nexus4_1|stand|\n",
      "|    3|1424696633919|1424696633919|0.016952515| -0.003829956| -0.02017212|   a|nexus4|nexus4_1|stand|\n",
      "|    4|1424696633928|1424696633928|  0.0158844|-0.0070343018| -0.02017212|   a|nexus4|nexus4_1|stand|\n",
      "+-----+-------------+-------------+-----------+-------------+------------+----+------+--------+-----+\n",
      "only showing top 5 rows\n",
      "\n"
     ]
    }
   ],
   "source": [
    "print(\"Table: Phones_gyroscope - ID\")\n",
    "phone_gyr.show(5)"
   ]
  },
  {
   "cell_type": "code",
   "execution_count": 106,
   "metadata": {
    "colab": {
     "base_uri": "https://localhost:8080/"
    },
    "id": "snNPNarndmXn",
    "outputId": "0786fa6d-d82e-4981-9556-f64696b2058c"
   },
   "outputs": [
    {
     "name": "stdout",
     "output_type": "stream",
     "text": [
      "Table: Watch_accelerometer - ID\n",
      "+-----+-------------+-------------+-----------+----------+-----------+----+-----+------+-----+\n",
      "|Index| Arrival_Time|Creation_Time|          x|         y|          z|User|Model|Device|   gt|\n",
      "+-----+-------------+-------------+-----------+----------+-----------+----+-----+------+-----+\n",
      "|    0|1424696638740|1424696638740| -0.5650316| -9.572019|-0.61411273|   a| gear|gear_1|stand|\n",
      "|    1|1424696638740|1424696638740|-0.83258367| -9.713276|-0.60693014|   a| gear|gear_1|stand|\n",
      "|    2|1424696638740|1424696638740| -1.0181342| -9.935339|-0.54408234|   a| gear|gear_1|stand|\n",
      "|    3|1424696638741|1424696638741| -1.2228385|-10.142437| -0.5662287|   a| gear|gear_1|stand|\n",
      "|    4|1424696638741|1424696638741| -1.5771804|-10.480618|-0.40282443|   a| gear|gear_1|stand|\n",
      "+-----+-------------+-------------+-----------+----------+-----------+----+-----+------+-----+\n",
      "only showing top 5 rows\n",
      "\n"
     ]
    }
   ],
   "source": [
    "print(\"Table: Watch_accelerometer - ID\")\n",
    "watch_acc.show(5)"
   ]
  },
  {
   "cell_type": "code",
   "execution_count": 107,
   "metadata": {
    "colab": {
     "base_uri": "https://localhost:8080/"
    },
    "id": "lasg3fgYI1Eh",
    "outputId": "addbea24-2f60-42b3-9768-55579485b2e5"
   },
   "outputs": [
    {
     "name": "stdout",
     "output_type": "stream",
     "text": [
      "Table: Watch_gyroscope - ID\n",
      "+-----+-------------+-------------+-----------+------------+------------+----+-----+------+-----+\n",
      "|Index| Arrival_Time|Creation_Time|          x|           y|           z|User|Model|Device|   gt|\n",
      "+-----+-------------+-------------+-----------+------------+------------+----+-----+------+-----+\n",
      "|    0|1424696638743|1424696638743|-0.16218652|-0.022104237|  0.05965481|   a| gear|gear_1|stand|\n",
      "|    1|1424696638743|1424696638743|-0.18322548| -0.06178534| 0.012516857|   a| gear|gear_1|stand|\n",
      "|    2|1424696638743|1424696638743|-0.18082865| -0.10865697|-0.036485307|   a| gear|gear_1|stand|\n",
      "|    3|1424696638743|1424696638743|-0.14780544| -0.15792546| -0.09853696|   a| gear|gear_1|stand|\n",
      "|    7|1424696638744|1424696638744| 0.18216023| -0.32357407| -0.27723506|   a| gear|gear_1|stand|\n",
      "+-----+-------------+-------------+-----------+------------+------------+----+-----+------+-----+\n",
      "only showing top 5 rows\n",
      "\n"
     ]
    }
   ],
   "source": [
    "print(\"Table: Watch_gyroscope - ID\")\n",
    "watch_gyr.show(5)"
   ]
  },
  {
   "cell_type": "markdown",
   "metadata": {
    "id": "kPNw_dSxJx4r"
   },
   "source": [
    "Informações Sumarizadas:\n",
    "\n",
    "- Quantos Registros cada Usuário Possui;\n",
    "- Quais Modelos de Aparelho Cada Usuário Operou;\n",
    "- Quais Devices cada usuário utilizou;\n",
    "- Describe de x, y, z;\n",
    "- Modelo de phone/watch mais utilizado;\n",
    "- Devices mais utilizados;\n",
    "- Gt mais utilizados;"
   ]
  },
  {
   "cell_type": "code",
   "execution_count": 108,
   "metadata": {
    "colab": {
     "base_uri": "https://localhost:8080/"
    },
    "id": "l1tt7rFsd8Xh",
    "outputId": "5f1bbfad-6ecc-4408-82b0-bbc7c1e2f93f"
   },
   "outputs": [
    {
     "name": "stdout",
     "output_type": "stream",
     "text": [
      "Table: Phones_accelerometer - Stats\n",
      "+----+---------+--------------------+--------------------+-----------------+------+------+------+----------+--------+--------+------+------+--------+--------+------------+------------+------+------+------+----------+--------+------+------+\n",
      "|User|QT_RG_USU|            VL_MED_X|            VL_MED_Y|         VL_MED_Z|nexus4|    s3|s3mini|samsungold|nexus4_1|nexus4_2|  s3_1|  s3_2|s3mini_1|s3mini_2|samsungold_1|samsungold_2|  bike|  null|   sit|stairsdown|stairsup| stand|  walk|\n",
      "+----+---------+--------------------+--------------------+-----------------+------+------+------+----------+--------+--------+------+------+--------+--------+------------+------------+------+------+------+----------+--------+------+------+\n",
      "|   g|  1587697| -1.5738913443660654|  1.0314356575851165|9.159926074640264|733383|383313|199648|    271353|  361234|  372149|194851|188462|  186599|   13049|      136080|      135273|189810|309104|231827|    185210|  176814|224732|270200|\n",
      "|   f|  1384531| -0.5713500634242824| 0.10090936986370273|9.108110573876557|736440|180068|204760|    263263|  374309|  362131|  null|180068|  179425|   25335|      131802|      131461|206247|210999|187595|    171804|  200737|187391|219758|\n",
      "|   e|  1614999|   -1.06122276142269| -0.2942073023801279|9.426780690452157|768185|384523|192614|    269677|  371847|  396338|193792|190731|  187498|    5116|      135061|      134616|238803|304143|224907|    174788|  188567|221694|262097|\n",
      "|   h|  1342301| -3.7604346838772695|  0.4055817777185914|8.540042665602542|618608|319882|177689|    226122|  309724|  308884|160695|159187|  159279|   18410|      113043|      113079|189691|119208|244940|    194861|  196441|186115|211045|\n",
      "|   d|  1337124|  -2.239579543410533|-0.18209092478183933|9.123756427849282|649959|315114|156015|    216036|  322433|  327526|159394|155720|  155769|     246|      108018|      108018|173025|113267|217298|    155852|  209174|213257|255251|\n",
      "|   c|  1326798| -2.5538450211778576|  -0.333092585244789|8.496625535733388|617241|315594|163774|    230189|  299438|  317803|159531|156063|  150605|   13169|      114790|      115399|160742|138612|216173|    175883|  207360|191497|236531|\n",
      "|   i|  1557737|-0.25250897372812126|-0.08472300007334285|9.485983169556139|740424|366222|191835|    259256|  365725|  374699|184073|182149|  180512|   11323|      130203|      129053|232454|215730|234833|    196573|  206362|211548|260237|\n",
      "|   b|  1548768| -1.1305141372167342|  0.6127782620492104|8.639418290907875|729918|367116|180958|    270776|  363270|  366648|183819|183297|  180471|     487|      135491|      135285|269642|228488|194377|    182160|  214717|192404|266980|\n",
      "|   a|  1362520|  -2.706245860612908| 0.07762153971413496|8.219752660324222|646825|327917|167886|    219892|  323817|  323008|165911|162006|  159318|    8568|      109496|      110396|185143|143649|239969|    178765|  181838|222854|210302|\n",
      "+----+---------+--------------------+--------------------+-----------------+------+------+------+----------+--------+--------+------+------+--------+--------+------------+------------+------+------+------+----------+--------+------+------+\n",
      "\n"
     ]
    }
   ],
   "source": [
    "print(\"Table: Phones_accelerometer - Stats\")\n",
    "aux1 = phone_acc.groupBy('User').agg(count('Index').alias('QT_RG_USU'),\n",
    "                              mean('x').alias('VL_MED_X'),\n",
    "                              mean('y').alias('VL_MED_Y'),\n",
    "                              mean('z').alias('VL_MED_Z'))\n",
    "\n",
    "aux2 = phone_acc.groupBy('User').pivot('Model').count()\n",
    "\n",
    "aux3 = phone_acc.groupBy('User').pivot('Device').count()\n",
    "\n",
    "aux4 = phone_acc.groupBy('User').pivot('gt').count()\n",
    "\n",
    "phone_acc_sumarizadas = aux1.join(aux2,['User'],'inner')\\\n",
    "                            .join(aux3,['User'],'inner')\\\n",
    "                            .join(aux4,['User'],'inner')\n",
    "\n",
    "phone_acc_sumarizadas.show()"
   ]
  },
  {
   "cell_type": "code",
   "execution_count": 109,
   "metadata": {
    "colab": {
     "base_uri": "https://localhost:8080/"
    },
    "id": "Y_DngC5id6YR",
    "outputId": "31332e46-6d2c-482a-a761-8ddd27883320"
   },
   "outputs": [
    {
     "name": "stdout",
     "output_type": "stream",
     "text": [
      "Table: Phones_gyroscope - Stats\n",
      "+----+---------+--------------------+--------------------+--------------------+------+------+------+--------+--------+------+------+--------+--------+------+------+------+----------+--------+------+------+\n",
      "|User|QT_RG_USU|            VL_MED_X|            VL_MED_Y|            VL_MED_Z|nexus4|    s3|s3mini|nexus4_1|nexus4_2|  s3_1|  s3_2|s3mini_1|s3mini_2|  bike|  null|   sit|stairsdown|stairsup| stand|  walk|\n",
      "+----+---------+--------------------+--------------------+--------------------+------+------+------+--------+--------+------+------+--------+--------+------+------+------+----------+--------+------+------+\n",
      "|   g|  1718884|-0.00420692743481...|-0.00809072572438...|-0.00872708610152...|733389|785834|199661|  361226|  372163|400114|385720|  186615|   13046|195960|331523|259613|    197799|  190492|249330|294167|\n",
      "|   f|  1309518|0.006516834609284814|-0.00733628632970...|-0.00689442369810...|736444|368315|204759|  374309|  362135|     1|368314|  179424|   25335|187978|196706|185161|    157794|  190149|181709|210021|\n",
      "|   e|  1747088|0.004724732223608726|-0.00807497428539294|-0.00196440267954...|768184|786281|192623|  371841|  396343|396275|390006|  187509|    5114|251540|324750|253562|    184205|  199247|248910|284874|\n",
      "|   h|  1450951|-0.00321176834047...|-0.01749220449180152|-0.01618209930363...|618618|654650|177683|  309743|  308875|329262|325388|  159287|   18396|204078|128003|277242|    204631|  208049|201525|227423|\n",
      "|   d|  1449795|0.012183707774968484|-0.01197121675845...|-0.01281882595047...|649962|643828|156005|  322433|  327529|325727|318101|  155759|     246|180015|118469|245438|    162804|  226693|238743|277633|\n",
      "|   c|  1427949|-0.00189176478249...|-0.00938086679423...|-0.00290732942867...|617238|646923|163788|  299438|  317800|327367|319556|  150640|   13148|165466|145537|243693|    184226|  223333|208148|257546|\n",
      "|   i|  1681258|0.006764005464857005|-0.00318334246967...|-0.02030412645269...|740431|749021|191806|  365740|  374691|376388|372633|  180495|   11311|247619|227303|267577|    204931|  217282|233470|283076|\n",
      "|   b|  1662190|  0.0072020982773992|-0.00947368629016331|-7.71840157039581...|729909|751293|180988|  363264|  366645|376357|374936|  180502|     486|285491|241440|214260|    189937|  230804|209938|290320|\n",
      "|   a|  1484999|0.002010507023133683|-0.01141222519065...|-0.01110027213749...|646830|670294|167875|  323823|  323007|339625|330669|  159307|    8568|193583|155896|271955|    187506|  198257|252433|225369|\n",
      "+----+---------+--------------------+--------------------+--------------------+------+------+------+--------+--------+------+------+--------+--------+------+------+------+----------+--------+------+------+\n",
      "\n"
     ]
    }
   ],
   "source": [
    "print(\"Table: Phones_gyroscope - Stats\")\n",
    "aux1 = phone_gyr.groupBy('User').agg(count('Index').alias('QT_RG_USU'),\n",
    "                              mean('x').alias('VL_MED_X'),\n",
    "                              mean('y').alias('VL_MED_Y'),\n",
    "                              mean('z').alias('VL_MED_Z'))\n",
    "\n",
    "aux2 = phone_gyr.groupBy('User').pivot('Model').count()\n",
    "\n",
    "aux3 = phone_gyr.groupBy('User').pivot('Device').count()\n",
    "\n",
    "aux4 = phone_gyr.groupBy('User').pivot('gt').count()\n",
    "\n",
    "phone_gyr_sumarizadas = aux1.join(aux2,['User'],'inner')\\\n",
    "                            .join(aux3,['User'],'inner')\\\n",
    "                            .join(aux4,['User'],'inner')\n",
    "\n",
    "phone_gyr_sumarizadas.show()"
   ]
  },
  {
   "cell_type": "code",
   "execution_count": 110,
   "metadata": {
    "colab": {
     "base_uri": "https://localhost:8080/"
    },
    "id": "nvy3LoKjKqa8",
    "outputId": "a91c5f4c-b250-4b7b-aa6b-76b9e32cb691"
   },
   "outputs": [
    {
     "name": "stdout",
     "output_type": "stream",
     "text": [
      "Table: Watch_accelerometer - Stats\n",
      "+----+---------+------------------+------------------+-------------------+------+-------+------+------+---------+---------+------+------+-----+----------+--------+-----+-----+\n",
      "|User|QT_RG_USU|          VL_MED_X|          VL_MED_Y|           VL_MED_Z|  gear|lgwatch|gear_1|gear_2|lgwatch_1|lgwatch_2|  bike|  null|  sit|stairsdown|stairsup|stand| walk|\n",
      "+----+---------+------------------+------------------+-------------------+------+-------+------+------+---------+---------+------+------+-----+----------+--------+-----+-----+\n",
      "|   g|   161141|-6.049081245130748|1.4073073373208311| -1.363632901525094| 47959| 113182| 37746| 10213|        1|   113181| 60525| 42906| 5940|     18138|    7358| 7230|19044|\n",
      "|   f|   578939|-4.041330920178437|-4.430289090460987| 2.8105465789005155| 60995| 517944| 44670| 16325|   445594|    72350| 99680| 95316|70316|     74580|   85101|65382|88564|\n",
      "|   e|   620188| 4.395599339498207| 4.019525086350341| 2.4994609574191586| 55859| 564329| 49860|  5999|   459446|   104883|112277|118604|69072|     84880|   70571|71026|93758|\n",
      "|   h|   141538| 8.246673608750738|-2.630723009112212| 1.8349387920010938|106618|  34920|102117|  4501|    34919|        1| 26707| 15498| 1389|     32945|   30967| 6622|27410|\n",
      "|   d|   440868|  4.51896454391858|-4.919815492098591|  2.666101598202941| 38671| 402197| 34502|  4169|   369876|    32321| 67597| 40608|66912|     51838|   60924|63750|89239|\n",
      "|   c|   507779| 4.802913099615813|-4.536035794206531| 1.7088784474210077| 52069| 455710| 38501| 13568|   391505|    64205| 85148| 59657|66473|     73955|   76383|74168|71995|\n",
      "|   i|    96541|0.5930989399462667|-5.276596658723083|-1.8679795463902542|  null|  96541|  null|  null|    41015|    55526|  9719| 23147| 2723|     32772|   24179| 1843| 2158|\n",
      "|   b|   497544|-5.197449195428805| -4.59033968539355| 1.9790191336377978| 44328| 453216| 41181|  3147|   453215|        1| 85675| 74411|70061|     58042|   66442|69580|73333|\n",
      "|   a|   496424|-8.434636516665805|-2.772950561619378| 1.5994930243773384| 42578| 453846| 32780|  9798|   381243|    72603| 88202| 50210|71109|     59226|   51829|91588|84260|\n",
      "+----+---------+------------------+------------------+-------------------+------+-------+------+------+---------+---------+------+------+-----+----------+--------+-----+-----+\n",
      "\n"
     ]
    }
   ],
   "source": [
    "print(\"Table: Watch_accelerometer - Stats\")\n",
    "aux1 = watch_acc.groupBy('User').agg(count('Index').alias('QT_RG_USU'),\n",
    "                              mean('x').alias('VL_MED_X'),\n",
    "                              mean('y').alias('VL_MED_Y'),\n",
    "                              mean('z').alias('VL_MED_Z'))\n",
    "\n",
    "aux2 = watch_acc.groupBy('User').pivot('Model').count()\n",
    "\n",
    "aux3 = watch_acc.groupBy('User').pivot('Device').count()\n",
    "\n",
    "aux4 = watch_acc.groupBy('User').pivot('gt').count()\n",
    "\n",
    "watch_acc_sumarizadas = aux1.join(aux2,['User'],'inner')\\\n",
    "                            .join(aux3,['User'],'inner')\\\n",
    "                            .join(aux4,['User'],'inner')\n",
    "\n",
    "watch_acc_sumarizadas.show()"
   ]
  },
  {
   "cell_type": "code",
   "execution_count": 111,
   "metadata": {
    "colab": {
     "base_uri": "https://localhost:8080/"
    },
    "id": "UutpJ3OjeJXH",
    "outputId": "f159f648-1fcf-48f6-eb8d-f849f747162d"
   },
   "outputs": [
    {
     "name": "stdout",
     "output_type": "stream",
     "text": [
      "Table: Watch_gyroscope - Stats\n",
      "+----+---------+--------------------+--------------------+--------------------+------+-------+------+------+---------+---------+-----+------+-----+----------+--------+-----+-----+\n",
      "|User|QT_RG_USU|            VL_MED_X|            VL_MED_Y|            VL_MED_Z|  gear|lgwatch|gear_1|gear_2|lgwatch_1|lgwatch_2| bike|  null|  sit|stairsdown|stairsup|stand| walk|\n",
      "+----+---------+--------------------+--------------------+--------------------+------+-------+------+------+---------+---------+-----+------+-----+----------+--------+-----+-----+\n",
      "|   g|    92428|0.048284555968910965|-0.04307860292132773|-0.00844806716859...| 47711|  44717| 37564| 10147|     null|    44717|23222| 25882| 5920|     10755|    6165| 7122|13362|\n",
      "|   f|   535078| 0.01269631705704994|-0.00604486080183...|-0.00908158557445256| 60808| 474270| 44559| 16249|   445594|    28676|89806| 85483|66391|     71626|   84222|65400|72150|\n",
      "|   e|   567252|-0.00191504734200...|-0.00280758459968042|-0.01625163253646...| 55610| 511642| 49711|  5899|   459446|    52196|98083|110794|68740|     69481|   68172|71136|80846|\n",
      "|   h|   116592| 0.04249456122991219|-0.00429650219133...|-0.08424548865897794|106540|  10052|102090|  4450|    10052|     null| 8969| 15590| 1375|     30600|   30668| 2081|27309|\n",
      "|   d|   420959|0.007634112009205089|0.014512674251155263|-0.01192676843979...| 38457| 382502| 34345|  4112|   369877|    12625|60078| 39237|66899|     51801|   60916|63716|78312|\n",
      "|   c|   478461|0.012594992038818241| 0.01499928634949741|-0.01669621740429...| 51840| 426621| 38327| 13513|   391505|    35116|76778| 59391|66408|     66792|   65185|71943|71964|\n",
      "|   i|    43703|-0.01242353087853...|0.039072374623277624|  0.0405134051134467|     1|  43702|  null|     1|    16280|    27422| 4684|  9636| 2901|     10236|   12851| 1562| 1833|\n",
      "|   b|   497348|0.022515716566499446|-0.00604812675179...|-0.00409475270451...| 44133| 453215| 41030|  3103|   453215|     null|85655| 74368|70039|     58033|   66395|69548|73310|\n",
      "|   a|   453610| 0.02628214659089511|0.018425592991454725|-0.02905272907950592| 42406| 411204| 32663|  9743|   381243|    29961|75397| 50048|70861|     58917|   51449|77715|69223|\n",
      "+----+---------+--------------------+--------------------+--------------------+------+-------+------+------+---------+---------+-----+------+-----+----------+--------+-----+-----+\n",
      "\n"
     ]
    }
   ],
   "source": [
    "print(\"Table: Watch_gyroscope - Stats\")\n",
    "aux1 = watch_gyr.groupBy('User').agg(count('Index').alias('QT_RG_USU'),\n",
    "                              mean('x').alias('VL_MED_X'),\n",
    "                              mean('y').alias('VL_MED_Y'),\n",
    "                              mean('z').alias('VL_MED_Z'))\n",
    "\n",
    "aux2 = watch_gyr.groupBy('User').pivot('Model').count()\n",
    "\n",
    "aux3 = watch_gyr.groupBy('User').pivot('Device').count()\n",
    "\n",
    "aux4 = watch_gyr.groupBy('User').pivot('gt').count()\n",
    "\n",
    "watch_gyr_sumarizadas = aux1.join(aux2,['User'],'inner')\\\n",
    "                            .join(aux3,['User'],'inner')\\\n",
    "                            .join(aux4,['User'],'inner')\n",
    "\n",
    "watch_gyr_sumarizadas.show()"
   ]
  },
  {
   "cell_type": "markdown",
   "metadata": {
    "id": "ZpEXPIQ_WPcW"
   },
   "source": [
    "Organizar os Campos de Arrival_Time e Creation_Time"
   ]
  },
  {
   "cell_type": "code",
   "execution_count": 112,
   "metadata": {
    "colab": {
     "base_uri": "https://localhost:8080/"
    },
    "id": "etdUyaSTeYes",
    "outputId": "39455cc0-c4fc-4262-8482-27f330bf4116"
   },
   "outputs": [
    {
     "name": "stdout",
     "output_type": "stream",
     "text": [
      "Table: Phones_accelerometer\n",
      "+-----+-------------+-------------+----------+----------+--------+----+------+--------+-----+------------------+---------------+-------------------+----------------+\n",
      "|Index| Arrival_Time|Creation_Time|         x|         y|       z|User| Model|  Device|   gt|Arrival_Time_Stamp|Arrival_Time_MS|Creation_Time_Stamp|Creation_Time_NS|\n",
      "+-----+-------------+-------------+----------+----------+--------+----+------+--------+-----+------------------+---------------+-------------------+----------------+\n",
      "|    0|1424696633908|1424696633908| -5.958191| 0.6880646|8.135345|   a|nexus4|nexus4_1|stand| 16-11-03 08:58:28|      000000000|  16-11-03 08:58:28|       000000000|\n",
      "|    1|1424696633909|1424696633909|  -5.95224| 0.6702118|8.136536|   a|nexus4|nexus4_1|stand| 16-11-03 08:58:29|      000000000|  16-11-03 08:58:29|       000000000|\n",
      "|    2|1424696633918|1424696633918|-5.9950867| 0.6535492|8.204376|   a|nexus4|nexus4_1|stand| 16-11-03 08:58:38|      000000000|  16-11-03 08:58:38|       000000000|\n",
      "|    3|1424696633919|1424696633919|-5.9427185| 0.6761627|8.128204|   a|nexus4|nexus4_1|stand| 16-11-03 08:58:39|      000000000|  16-11-03 08:58:39|       000000000|\n",
      "|    4|1424696633929|1424696633929| -5.991516|0.64164734|8.135345|   a|nexus4|nexus4_1|stand| 16-11-03 08:58:49|      000000000|  16-11-03 08:58:49|       000000000|\n",
      "+-----+-------------+-------------+----------+----------+--------+----+------+--------+-----+------------------+---------------+-------------------+----------------+\n",
      "only showing top 5 rows\n",
      "\n"
     ]
    }
   ],
   "source": [
    "print(\"Table: Phones_accelerometer\")\n",
    "phone_acc = phone_acc.withColumn('Arrival_Time_Stamp',from_unixtime(col(\"Arrival_Time\"),\"yy-MM-dd HH:mm:ss\"))\n",
    "phone_acc = phone_acc.withColumn('Arrival_Time_MS',from_unixtime(col(\"Arrival_Time\"),\"yy-MM-dd HH:mm:ss.SSSSSSSSS\").substr(-9,9).cast('string'))\n",
    "\n",
    "phone_acc = phone_acc.withColumn('Creation_Time_Stamp',from_unixtime(col(\"Creation_Time\"),\"yy-MM-dd HH:mm:ss\"))\n",
    "phone_acc = phone_acc.withColumn('Creation_Time_NS',from_unixtime(col(\"Creation_Time\"),\"yy-MM-dd HH:mm:ss.SSSSSSSSS\").substr(-9,9).cast('string'))\n",
    "phone_acc.show(5)"
   ]
  },
  {
   "cell_type": "code",
   "execution_count": 113,
   "metadata": {
    "colab": {
     "base_uri": "https://localhost:8080/"
    },
    "id": "gillq5CreZCX",
    "outputId": "89b49062-0040-4830-a7e7-baf5e9ff80b5"
   },
   "outputs": [
    {
     "name": "stdout",
     "output_type": "stream",
     "text": [
      "Table: Phones_gyroscope\n",
      "+-----+-------------+-------------+-----------+-------------+------------+----+------+--------+-----+------------------+---------------+-------------------+----------------+\n",
      "|Index| Arrival_Time|Creation_Time|          x|            y|           z|User| Model|  Device|   gt|Arrival_Time_Stamp|Arrival_Time_MS|Creation_Time_Stamp|Creation_Time_NS|\n",
      "+-----+-------------+-------------+-----------+-------------+------------+----+------+--------+-----+------------------+---------------+-------------------+----------------+\n",
      "|    0|1424696633909|1424696633909|0.013748169|-6.2561035E-4|-0.023376465|   a|nexus4|nexus4_1|stand| 16-11-03 08:58:29|      000000000|  16-11-03 08:58:29|       000000000|\n",
      "|    1|1424696633909|1424696633909|0.014816284|-0.0016937256| -0.02230835|   a|nexus4|nexus4_1|stand| 16-11-03 08:58:29|      000000000|  16-11-03 08:58:29|       000000000|\n",
      "|    2|1424696633918|1424696633918|  0.0158844|-0.0016937256|-0.021240234|   a|nexus4|nexus4_1|stand| 16-11-03 08:58:38|      000000000|  16-11-03 08:58:38|       000000000|\n",
      "|    3|1424696633919|1424696633919|0.016952515| -0.003829956| -0.02017212|   a|nexus4|nexus4_1|stand| 16-11-03 08:58:39|      000000000|  16-11-03 08:58:39|       000000000|\n",
      "|    4|1424696633928|1424696633928|  0.0158844|-0.0070343018| -0.02017212|   a|nexus4|nexus4_1|stand| 16-11-03 08:58:48|      000000000|  16-11-03 08:58:48|       000000000|\n",
      "+-----+-------------+-------------+-----------+-------------+------------+----+------+--------+-----+------------------+---------------+-------------------+----------------+\n",
      "only showing top 5 rows\n",
      "\n"
     ]
    }
   ],
   "source": [
    "print(\"Table: Phones_gyroscope\")\n",
    "phone_gyr = phone_gyr.withColumn('Arrival_Time_Stamp',from_unixtime(col(\"Arrival_Time\"),\"yy-MM-dd HH:mm:ss\"))\n",
    "phone_gyr = phone_gyr.withColumn('Arrival_Time_MS',from_unixtime(col(\"Arrival_Time\"),\"yy-MM-dd HH:mm:ss.SSSSSSSSS\").substr(-9,9).cast('string'))\n",
    "\n",
    "phone_gyr = phone_gyr.withColumn('Creation_Time_Stamp',from_unixtime(col(\"Creation_Time\"),\"yy-MM-dd HH:mm:ss\"))\n",
    "phone_gyr = phone_gyr.withColumn('Creation_Time_NS',from_unixtime(col(\"Creation_Time\"),\"yy-MM-dd HH:mm:ss.SSSSSSSSS\").substr(-9,9).cast('string'))\n",
    "phone_gyr.show(5)"
   ]
  },
  {
   "cell_type": "code",
   "execution_count": 114,
   "metadata": {
    "colab": {
     "base_uri": "https://localhost:8080/"
    },
    "id": "mWamnYgCR9t4",
    "outputId": "fd6f57c4-0141-4a50-ad83-41b209ef4cab"
   },
   "outputs": [
    {
     "name": "stdout",
     "output_type": "stream",
     "text": [
      "Table: Watch_accelerometer\n",
      "+-----+-------------+-------------+-----------+----------+-----------+----+-----+------+-----+------------------+---------------+-------------------+----------------+\n",
      "|Index| Arrival_Time|Creation_Time|          x|         y|          z|User|Model|Device|   gt|Arrival_Time_Stamp|Arrival_Time_MS|Creation_Time_Stamp|Creation_Time_NS|\n",
      "+-----+-------------+-------------+-----------+----------+-----------+----+-----+------+-----+------------------+---------------+-------------------+----------------+\n",
      "|    0|1424696638740|1424696638740| -0.5650316| -9.572019|-0.61411273|   a| gear|gear_1|stand| 16-11-03 10:19:00|      000000000|  16-11-03 10:19:00|       000000000|\n",
      "|    1|1424696638740|1424696638740|-0.83258367| -9.713276|-0.60693014|   a| gear|gear_1|stand| 16-11-03 10:19:00|      000000000|  16-11-03 10:19:00|       000000000|\n",
      "|    2|1424696638740|1424696638740| -1.0181342| -9.935339|-0.54408234|   a| gear|gear_1|stand| 16-11-03 10:19:00|      000000000|  16-11-03 10:19:00|       000000000|\n",
      "|    3|1424696638741|1424696638741| -1.2228385|-10.142437| -0.5662287|   a| gear|gear_1|stand| 16-11-03 10:19:01|      000000000|  16-11-03 10:19:01|       000000000|\n",
      "|    4|1424696638741|1424696638741| -1.5771804|-10.480618|-0.40282443|   a| gear|gear_1|stand| 16-11-03 10:19:01|      000000000|  16-11-03 10:19:01|       000000000|\n",
      "+-----+-------------+-------------+-----------+----------+-----------+----+-----+------+-----+------------------+---------------+-------------------+----------------+\n",
      "only showing top 5 rows\n",
      "\n"
     ]
    }
   ],
   "source": [
    "print(\"Table: Watch_accelerometer\")\n",
    "watch_acc = watch_acc.withColumn('Arrival_Time_Stamp',from_unixtime(col(\"Arrival_Time\"),\"yy-MM-dd HH:mm:ss\"))\n",
    "watch_acc = watch_acc.withColumn('Arrival_Time_MS',from_unixtime(col(\"Arrival_Time\"),\"yy-MM-dd HH:mm:ss.SSSSSSSSS\").substr(-9,9).cast('string'))\n",
    "\n",
    "watch_acc = watch_acc.withColumn('Creation_Time_Stamp',from_unixtime(col(\"Creation_Time\"),\"yy-MM-dd HH:mm:ss\"))\n",
    "watch_acc = watch_acc.withColumn('Creation_Time_NS',from_unixtime(col(\"Creation_Time\"),\"yy-MM-dd HH:mm:ss.SSSSSSSSS\").substr(-9,9).cast('string'))\n",
    "watch_acc.show(5)"
   ]
  },
  {
   "cell_type": "code",
   "execution_count": 115,
   "metadata": {
    "colab": {
     "base_uri": "https://localhost:8080/"
    },
    "id": "bVpN0y6mekEv",
    "outputId": "04f72aa0-e055-4da6-e384-e86ef5696b97"
   },
   "outputs": [
    {
     "name": "stdout",
     "output_type": "stream",
     "text": [
      "Table: Watch_gyroscope\n",
      "+-----+-------------+-------------+-----------+------------+------------+----+-----+------+-----+------------------+---------------+-------------------+----------------+\n",
      "|Index| Arrival_Time|Creation_Time|          x|           y|           z|User|Model|Device|   gt|Arrival_Time_Stamp|Arrival_Time_MS|Creation_Time_Stamp|Creation_Time_NS|\n",
      "+-----+-------------+-------------+-----------+------------+------------+----+-----+------+-----+------------------+---------------+-------------------+----------------+\n",
      "|    0|1424696638743|1424696638743|-0.16218652|-0.022104237|  0.05965481|   a| gear|gear_1|stand| 16-11-03 10:19:03|      000000000|  16-11-03 10:19:03|       000000000|\n",
      "|    1|1424696638743|1424696638743|-0.18322548| -0.06178534| 0.012516857|   a| gear|gear_1|stand| 16-11-03 10:19:03|      000000000|  16-11-03 10:19:03|       000000000|\n",
      "|    2|1424696638743|1424696638743|-0.18082865| -0.10865697|-0.036485307|   a| gear|gear_1|stand| 16-11-03 10:19:03|      000000000|  16-11-03 10:19:03|       000000000|\n",
      "|    3|1424696638743|1424696638743|-0.14780544| -0.15792546| -0.09853696|   a| gear|gear_1|stand| 16-11-03 10:19:03|      000000000|  16-11-03 10:19:03|       000000000|\n",
      "|    7|1424696638744|1424696638744| 0.18216023| -0.32357407| -0.27723506|   a| gear|gear_1|stand| 16-11-03 10:19:04|      000000000|  16-11-03 10:19:04|       000000000|\n",
      "+-----+-------------+-------------+-----------+------------+------------+----+-----+------+-----+------------------+---------------+-------------------+----------------+\n",
      "only showing top 5 rows\n",
      "\n"
     ]
    }
   ],
   "source": [
    "print(\"Table: Watch_gyroscope\")\n",
    "watch_gyr = watch_gyr.withColumn('Arrival_Time_Stamp',from_unixtime(col(\"Arrival_Time\"),\"yy-MM-dd HH:mm:ss\"))\n",
    "watch_gyr = watch_gyr.withColumn('Arrival_Time_MS',from_unixtime(col(\"Arrival_Time\"),\"yy-MM-dd HH:mm:ss.SSSSSSSSS\").substr(-9,9).cast('string'))\n",
    "\n",
    "watch_gyr = watch_gyr.withColumn('Creation_Time_Stamp',from_unixtime(col(\"Creation_Time\"),\"yy-MM-dd HH:mm:ss\"))\n",
    "watch_gyr = watch_gyr.withColumn('Creation_Time_NS',from_unixtime(col(\"Creation_Time\"),\"yy-MM-dd HH:mm:ss.SSSSSSSSS\").substr(-9,9).cast('string'))\n",
    "watch_gyr.show(5)"
   ]
  },
  {
   "cell_type": "markdown",
   "metadata": {
    "id": "tdq84Z6Be4uj"
   },
   "source": [
    "Informação das Diferenças dos Registros"
   ]
  },
  {
   "cell_type": "code",
   "execution_count": 116,
   "metadata": {
    "id": "Q7iwdDREfBif"
   },
   "outputs": [],
   "source": [
    "from pyspark.sql.window import Window"
   ]
  },
  {
   "cell_type": "code",
   "execution_count": 117,
   "metadata": {
    "colab": {
     "base_uri": "https://localhost:8080/"
    },
    "id": "Quz6WpsifIhr",
    "outputId": "32c495cd-96f2-4d80-a990-54c4a5822657"
   },
   "outputs": [
    {
     "name": "stdout",
     "output_type": "stream",
     "text": [
      "Table: Phones_accelerometer\n",
      "CPU times: user 9.66 ms, sys: 1.53 ms, total: 11.2 ms\n",
      "Wall time: 87.4 ms\n"
     ]
    }
   ],
   "source": [
    "%%time\n",
    "print(\"Table: Phones_accelerometer\")\n",
    "window = Window.partitionBy([\"User\",'Device']).orderBy(\"Index\")\n",
    "\n",
    "phone_acc = phone_acc.withColumn(\"Arrival_Time_Diff\", col(\"Arrival_Time\") - lag(col(\"Arrival_Time\"), 1, 0).over(window))\n",
    "phone_acc = phone_acc.withColumn(\"Creation_Time_Diff\", col(\"Creation_Time\") - lag(col(\"Creation_Time\"), 1, 0).over(window))"
   ]
  },
  {
   "cell_type": "code",
   "execution_count": 118,
   "metadata": {
    "colab": {
     "base_uri": "https://localhost:8080/"
    },
    "id": "GHN4irzOfJBM",
    "outputId": "f7590a6c-5da5-4a96-afc3-c57a5be27ec1"
   },
   "outputs": [
    {
     "name": "stdout",
     "output_type": "stream",
     "text": [
      "Table: Phones_gyroscope\n",
      "CPU times: user 16.2 ms, sys: 1.37 ms, total: 17.6 ms\n",
      "Wall time: 108 ms\n"
     ]
    }
   ],
   "source": [
    "%%time\n",
    "print(\"Table: Phones_gyroscope\")\n",
    "window = Window.partitionBy([\"User\",'Device']).orderBy(\"Index\")\n",
    "\n",
    "phone_gyr = phone_gyr.withColumn(\"Arrival_Time_Diff\", col(\"Arrival_Time\") - lag(col(\"Arrival_Time\"), 1, 0).over(window))\n",
    "phone_gyr = phone_gyr.withColumn(\"Creation_Time_Diff\", col(\"Creation_Time\") - lag(col(\"Creation_Time\"), 1, 0).over(window))"
   ]
  },
  {
   "cell_type": "code",
   "execution_count": 119,
   "metadata": {
    "colab": {
     "base_uri": "https://localhost:8080/"
    },
    "id": "jmEGIafBTail",
    "outputId": "3d737eaa-878a-4a22-ca87-3f8387e7696e"
   },
   "outputs": [
    {
     "name": "stdout",
     "output_type": "stream",
     "text": [
      "Table: Watch_accelerometer\n",
      "CPU times: user 10.7 ms, sys: 2.88 ms, total: 13.6 ms\n",
      "Wall time: 81.1 ms\n"
     ]
    }
   ],
   "source": [
    "%%time\n",
    "print(\"Table: Watch_accelerometer\")\n",
    "window = Window.partitionBy([\"User\",'Device']).orderBy(\"Index\")\n",
    "\n",
    "watch_acc = watch_acc.withColumn(\"Arrival_Time_Diff\", col(\"Arrival_Time\") - lag(col(\"Arrival_Time\"), 1, 0).over(window))\n",
    "watch_acc = watch_acc.withColumn(\"Creation_Time_Diff\", col(\"Creation_Time\") - lag(col(\"Creation_Time\"), 1, 0).over(window))"
   ]
  },
  {
   "cell_type": "code",
   "execution_count": 120,
   "metadata": {
    "colab": {
     "base_uri": "https://localhost:8080/"
    },
    "id": "tE4Qz33zfKgr",
    "outputId": "c2b91b61-3a1f-4b0a-da9d-8b776be631a5"
   },
   "outputs": [
    {
     "name": "stdout",
     "output_type": "stream",
     "text": [
      "Table: Watch_gyroscope\n",
      "CPU times: user 11.1 ms, sys: 1.25 ms, total: 12.4 ms\n",
      "Wall time: 58.5 ms\n"
     ]
    }
   ],
   "source": [
    "%%time\n",
    "print(\"Table: Watch_gyroscope\")\n",
    "window = Window.partitionBy([\"User\",'Device']).orderBy(\"Index\")\n",
    "\n",
    "watch_gyr = watch_gyr.withColumn(\"Arrival_Time_Diff\", col(\"Arrival_Time\") - lag(col(\"Arrival_Time\"), 1, 0).over(window))\n",
    "watch_gyr = watch_gyr.withColumn(\"Creation_Time_Diff\", col(\"Creation_Time\") - lag(col(\"Creation_Time\"), 1, 0).over(window))"
   ]
  },
  {
   "cell_type": "code",
   "execution_count": 120,
   "metadata": {
    "id": "RMw9YXzTfjeo"
   },
   "outputs": [],
   "source": []
  }
 ],
 "metadata": {
  "colab": {
   "collapsed_sections": [],
   "name": "bradesco_avaliacao.ipynb",
   "provenance": []
  },
  "kernelspec": {
   "display_name": "Python 3 (ipykernel)",
   "language": "python",
   "name": "python3"
  },
  "language_info": {
   "codemirror_mode": {
    "name": "ipython",
    "version": 3
   },
   "file_extension": ".py",
   "mimetype": "text/x-python",
   "name": "python",
   "nbconvert_exporter": "python",
   "pygments_lexer": "ipython3",
   "version": "3.9.7"
  }
 },
 "nbformat": 4,
 "nbformat_minor": 1
}
